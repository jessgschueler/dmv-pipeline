{
 "cells": [
  {
   "cell_type": "markdown",
   "metadata": {},
   "source": [
    "1. Read the rows in the json file"
   ]
  },
  {
   "cell_type": "code",
   "execution_count": 1,
   "metadata": {},
   "outputs": [
    {
     "name": "stdout",
     "output_type": "stream",
     "text": [
      "Read 1000 rows\n",
      "OK rows: 1000, Rejected rows: 0000\n"
     ]
    }
   ],
   "source": [
    "import json\n",
    "def run(file_name:str, print_lines:bool=False) -> None:\n",
    "    \"\"\"\n",
    "    From JSON row file read each row\n",
    "\n",
    "    Args:\n",
    "        file_name (str): file path to read\n",
    "        print_lines (bool): print lines from file to console.\n",
    "    \"\"\"\n",
    "    # track the row count\n",
    "    line_num = 1        # Current line number\n",
    "    ok_count = 0        # Rows that didn't return an error\n",
    "    reject_count = 0    # Rows that did return an error\n",
    "    with open(file_name, \"r\") as json_file:\n",
    "        for line in json_file:\n",
    "            try:\n",
    "                # read lines into a dict\n",
    "                row = json.loads(line.strip())\n",
    "                # Print lines\n",
    "                if print_lines:\n",
    "                    print(f\"[{line_num:04d} [OK]: {row}\")\n",
    "                # line count update\n",
    "                ok_count += 1\n",
    "            except Exception as err:\n",
    "                # print row with error\n",
    "                print(f\"[{line_num:04d}][ERROR:] {str(err)}, [DATA]: {row}\")\n",
    "                reject_count += 1\n",
    "            finally:\n",
    "                # Update line count regardless\n",
    "                line_num += 1\n",
    "        # Print line count summary\n",
    "    print(f\"Read {line_num - 1} rows\")\n",
    "    print(f\"OK rows: {ok_count:04d}, Rejected rows: {reject_count:04d}\") \n",
    "\n",
    "# Call the function for a test\n",
    "file_path = \"./data/vehicles_complex.json\"\n",
    "run(file_path, print_lines=False)"
   ]
  },
  {
   "cell_type": "markdown",
   "metadata": {},
   "source": [
    "2. Reject any rows that does not meet any of the requirements below:\n",
    "   1. missing any of the following fields: _license plate, make and model, year, registered name, date or address_\n",
    "   2. Make sure any of the above fields don't include Nulls. \n",
    "   3. **BUT** if you're missing the registered name and you do have sales records, you can use the name with the most recent sale date and use that as the registered name. You don't reject the row in this case.\n",
    "   4. Make sure all the addresses are valid. Reject them if they are empty or invalid."
   ]
  },
  {
   "cell_type": "code",
   "execution_count": 2,
   "metadata": {},
   "outputs": [],
   "source": [
    "\n",
    "# later make it date OR address\n",
    "#required fields\n",
    "VALID_FIELDS = [\"license_plate\", \"make_model\", \"year\", \"registered_name\", \"registered_address\", \"registered_date\"]\n",
    "\n",
    "def check_schema(row, required_fields=VALID_FIELDS) -> bool:\n",
    "    '''\n",
    "    Checks if a json row or dict contains all required fields. Missing fields will cause KeyError exception\n",
    "\n",
    "    Args:\n",
    "        row (dict): data row\n",
    "        fields (set, optional): set of required fields\n",
    "\n",
    "    Returns:\n",
    "        bool: True if all fields present\n",
    "\n",
    "    Raises:\n",
    "        KeyError: If required fields are missing\n",
    "    '''\n",
    "    # Loop through fields to make sure they are all present. If any are missing, raise KeyError.\n",
    "    for field in required_fields:\n",
    "        if field not in row:\n",
    "            raise KeyError(f'Missing required field: {field}')\n",
    "    return True\n",
    "\n",
    "def null_check(row:dict, required_fields=VALID_FIELDS) -> bool:\n",
    "    '''\n",
    "    Checks the row to ensure no null values. Fields containing null values cause a ValueError\n",
    "\n",
    "    Args:\n",
    "        row (dict): data row\n",
    "        fields (set, optional): set of required fields\n",
    "\n",
    "    Returns:\n",
    "        bool: True if none of the fields contain Null values \n",
    "\n",
    "    Raises:\n",
    "        ValueError: If required fields contain none.\n",
    "    '''\n",
    "    #Loop through field values to make sure that no values are Null. If they are, return ValueError.\n",
    "    for field in required_fields:\n",
    "        if row[field] is None:\n",
    "            raise ValueError(f\"{field} cannot be Null.\")\n",
    "    return True\n"
   ]
  },
  {
   "cell_type": "code",
   "execution_count": 3,
   "metadata": {},
   "outputs": [],
   "source": [
    "import re\n",
    "\n",
    "def transform_address(row:dict) -> bool:\n",
    "    \"\"\"\n",
    "    Parses the address into street_address, city, state, zip fields. Invalid address cause a ValueError exception.\n",
    "\n",
    "    Args:\n",
    "        row (dict): data row\n",
    "\n",
    "    Returns:\n",
    "        bool: True if address is in valid US address format; otherwise False\n",
    "\n",
    "    Raises:\n",
    "        ValueError: Unknown address format.\n",
    "    \"\"\"\n",
    "    # regular expression (regex) to match a US address composed of street_address, city, state, zip\n",
    "    # this regex uses Named Capturing Group feature of regex to assign a name to a matching portion of the string\n",
    "    # the syntax is (?<group_name>...) where ... contains the matching regex for this group\n",
    "    address_regex = r\"(?P<street_address>[a-zA-Z0-9 .]+)\\n(?P<city>[a-zA-Z0-9 ]+), (?P<state>[A-Z]{2}) (?P<zip>[0-9]{5})\"\n",
    "    pattern = re.compile(address_regex)\n",
    "    # match address using regex\n",
    "    result = pattern.match(row[\"registered_address\"])\n",
    "    if result:\n",
    "        # if a possible match found. assign fields based on regex matching named groups\n",
    "        row[\"street_address\"] = result.group(\"street_address\")\n",
    "        row[\"city\"] = result.group(\"city\")\n",
    "        row[\"state\"] = result.group(\"state\")\n",
    "        row[\"zip\"] = result.group(\"zip\")\n",
    "        # delete the original address field\n",
    "        del row[\"registered_address\"]\n",
    "        return True\n",
    "    else:\n",
    "        address = row[\"registered_address\"].strip().replace(\"\\n\", \", \")\n",
    "        raise ValueError(f\"Unknown address format: {address}\")"
   ]
  }
 ],
 "metadata": {
  "interpreter": {
   "hash": "bcbeb7ab47d1ebde64c4c25fb3c8a3dcef8df42b20379bdea4e219c5d3ba6a42"
  },
  "kernelspec": {
   "display_name": "Python 3.7.13 ('venv': venv)",
   "language": "python",
   "name": "python3"
  },
  "language_info": {
   "codemirror_mode": {
    "name": "ipython",
    "version": 3
   },
   "file_extension": ".py",
   "mimetype": "text/x-python",
   "name": "python",
   "nbconvert_exporter": "python",
   "pygments_lexer": "ipython3",
   "version": "3.7.13"
  },
  "orig_nbformat": 4
 },
 "nbformat": 4,
 "nbformat_minor": 2
}
