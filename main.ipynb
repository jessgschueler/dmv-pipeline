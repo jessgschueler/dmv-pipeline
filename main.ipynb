{
 "cells": [
  {
   "cell_type": "markdown",
   "metadata": {},
   "source": [
    "1. Read the rows in the json file"
   ]
  },
  {
   "cell_type": "code",
   "execution_count": null,
   "metadata": {},
   "outputs": [],
   "source": [
    "import json\n",
    "def run(file_name:str, print_lines:bool=False) -> None:\n",
    "    \"\"\"\n",
    "    From JSON row file read each row\n",
    "\n",
    "    Args:\n",
    "        file_name (str): file path to read\n",
    "        print_lines (bool): print lines from file to console.\n",
    "    \"\"\"\n",
    "    # track the row count\n",
    "    line_num = 1        # Current line number\n",
    "    ok_count = 0        # Rows that didn't return an error\n",
    "    reject_count = 0    # Rows that did return an error\n",
    "    with open(file_name, \"r\") as json_file:\n",
    "        for line in json_file:\n",
    "            try:\n",
    "                # read lines into a dict\n",
    "                row = json.loads(line.strip())\n",
    "                # Print lines\n",
    "                if print_lines:\n",
    "                    print(f\"[{line_num:04d} [OK]: {row}\")\n",
    "                # line count update\n",
    "                ok_count += 1\n",
    "            except Exception as err:\n",
    "                # print row with error\n",
    "                print(f\"[{line_num:04d}][ERROR:] {str(err)}, [DATA]: {row}\")\n",
    "                reject_count += 1\n",
    "            finally:\n",
    "                # Update line count regardless\n",
    "                line_num += 1\n",
    "        # Print line count summary\n",
    "    print(f\"Read {line_num - 1} rows\")\n",
    "    print(f\"OK rows: {ok_count:04d}, Rejected rows: {reject_count:04d}\") \n",
    "\n",
    "# Call the function for a test\n",
    "file_path = \"./data/vehicles_complex.json\"\n",
    "run(file_path, print_lines=True)"
   ]
  },
  {
   "cell_type": "markdown",
   "metadata": {},
   "source": [
    "2. Reject any rows that does not meet any of the requirements below:\n",
    "   1. missing any of the following fields: _license plate, make and model, year, registered name, date or address_\n",
    "   2. Make sure any of the above fields don't include Nulls. \n",
    "   3. **BUT** if you're missing the registered name and you do have sales records, you can use the name with the most recent sale date and use that as the registered name. You don't reject the row in this case.\n",
    "   4. Make sure all the addresses are valid. Reject them if they are empty or invalid."
   ]
  },
  {
   "cell_type": "code",
   "execution_count": null,
   "metadata": {},
   "outputs": [],
   "source": [
    "# later make it date OR address\n",
    "VALID_FIELDS = [\"license_plate\", \"make_model\", \"year\", \"registered_name\", \"registered_address\", \"registered_date\"]"
   ]
  }
 ],
 "metadata": {
  "interpreter": {
   "hash": "bcbeb7ab47d1ebde64c4c25fb3c8a3dcef8df42b20379bdea4e219c5d3ba6a42"
  },
  "kernelspec": {
   "display_name": "Python 3.7.13 ('venv': venv)",
   "language": "python",
   "name": "python3"
  },
  "language_info": {
   "codemirror_mode": {
    "name": "ipython",
    "version": 3
   },
   "file_extension": ".py",
   "mimetype": "text/x-python",
   "name": "python",
   "nbconvert_exporter": "python",
   "pygments_lexer": "ipython3",
   "version": "3.7.13"
  },
  "orig_nbformat": 4
 },
 "nbformat": 4,
 "nbformat_minor": 2
}
